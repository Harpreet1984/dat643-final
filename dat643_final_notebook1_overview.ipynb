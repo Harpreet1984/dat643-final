{
 "cells": [
  {
   "cell_type": "markdown",
   "metadata": {},
   "source": [
    "# <center>DATA643: Recommender System </center>\n",
    "## <center> Final Project </center>\n",
    "### <i> <center> Harpreet Shoker, Rose Koh, Summer 2018 </center> </i>"
   ]
  },
  {
   "cell_type": "markdown",
   "metadata": {},
   "source": [
    "## Notebook1_Overview\n"
   ]
  },
  {
   "cell_type": "markdown",
   "metadata": {},
   "source": [
    "---"
   ]
  },
  {
   "cell_type": "markdown",
   "metadata": {},
   "source": [
    "## Project Overview\n",
    "  \n",
    "Instacart is an American company that operates as a same-day grocery delivery service.  Customers select groceries through a web application from various retailers and the order is delivered by a personal shopper.\n",
    "\n",
    "In this project, we investigate whether recommender system is effective on leading user re-purchases compare to recommending the top 10 most popular products to each user. "
   ]
  },
  {
   "cell_type": "markdown",
   "metadata": {},
   "source": [
    "## File Organization\n",
    "\t1) Overview\n",
    "\t2) Data Preparation and Exploratory Data Analysis\n",
    "\t3) Recommendation_SVD\n",
    "    4) Recommendation_ALS\n",
    "    5) Recommendation_TFIDF"
   ]
  },
  {
   "cell_type": "markdown",
   "metadata": {},
   "source": [
    "## Goal (TBD)"
   ]
  },
  {
   "cell_type": "markdown",
   "metadata": {},
   "source": [
    "## Data\n",
    "\n",
    "This anonymized dataset contains a sample of over 3 million grocery orders from more than 200,000 Instacart users.  For each user, the dataset has 4 to 100 of their orders, with the sequence of products purchased in each order.  The week and hour of the day the order was placed, and a relative measure of time between orders is also available.\n",
    "\n",
    "The dataset is binary data unlike most of recommender system examples.\n"
   ]
  },
  {
   "cell_type": "markdown",
   "metadata": {},
   "source": [
    "\n",
    "## Challenges\n",
    "\n",
    "We use algorithms specifically suited for processing implicit feedback.  It is important to highlight unique characteristic of implicit feedback as this prevent the application of algorithms that were designed for explicit feedback data.\n",
    "\n",
    "* The Instacart dataset has information about users prior purchases of which we can infer what users like.  There is, however, no evident metrics to deduce what user dislikes.\n",
    "\n",
    "* User purchase does not confirm users preferences of the product.  Furthremore, the frequency of the purchase does not indicate users' preferences -- This is an indicator for a users' confidence in products.  There is no evident user preferences.\n",
    "\n",
    "* Explicit recommender systems can be evaluated using metrics such as MAE.  With implicit recommender system, the output is compared to users' current purchase on test set using set based measures."
   ]
  },
  {
   "cell_type": "markdown",
   "metadata": {},
   "source": [
    "## Experiment Workflow and Design\n",
    "1) Data Acquisition\n",
    "* The Instacart Online Grocery Shopping Dataset 2017’ which is available for public download at https://www.instacart.com/datasets/grocery-shopping-2017\n",
    "* The dataset contains a sample of over 3 million grocery orders from more than 200,000 Instacart users.\n",
    "\n",
    "2) Missing values and outliers\n",
    "* There are no missing values in the dataset. \n",
    "* There are no obvious outliers as per each user, 4 and 100 of their orders are given, with the sequence of products purchased in each order.\n",
    "\n",
    "3) Data transformations and split\n",
    "* We split the dataset, which is spread over 3 ‘.csv’ ﬁles, into previous and current purchases for every user. \n",
    "    * The prior purchase data is used to build a utility matrix where rows are products, columns are users and each entry u ij is the number of times product i appears in user u’s purchase history. \n",
    "    * We use current purchases of 20% of the users in the dataset as the test set.\n",
    "\n",
    "4) Data mining analysis\n",
    "* To Conduct the investigation, we use and compare the performance of three different collaborative ﬁltering techniques: \n",
    "    * a neighborhood-based method that recommends products to a target-user based on the purchases of similar users, \n",
    "    * a latent factor method that uses Singular Value Decomposition(SVD)\n",
    "    * a matrix factorization method that was designed speciﬁcally for implicit feedback datasets.\n",
    "\n",
    "5) Evaluate methods\n",
    "* Each of the above three methods are evaluated on an independent test dataset consisting of the current purchases of around 26,000 users, and compared to a baseline model that recommends the 10 most popular products to each user.  This approach allow us to determine whether recommender system is effective in leading purchases on instacart compare to the baseline model that suggests popular top 10 products.\n"
   ]
  },
  {
   "cell_type": "markdown",
   "metadata": {},
   "source": [
    "## Data mining Analysis\n",
    "### 1.Term Frequency-Inverse Document Frequency (TF-IDF) based neighborhood\n",
    "### 2.Matrix Factorization using Singular Value Decomposition(SVD)\n",
    "### 3.Matrix Factorization for Implicit Feedback (ALS)"
   ]
  },
  {
   "cell_type": "markdown",
   "metadata": {},
   "source": [
    "## Resources (tbd)\n",
    "\n",
    "* pyspark\n",
    "* numpy\n",
    "* pandas\n",
    "* Matrix factorization\n",
    "* jupyter notebook\n",
    "* github"
   ]
  },
  {
   "cell_type": "markdown",
   "metadata": {},
   "source": [
    "## References\n",
    "\n",
    "* Stanley, Jeremy. ”3 Million Instacart Orders, Open Sourced tech-at-instacart.” Tech-atinstacart. May 03, 2017. Accessed October 11, 2017. https://tech.instacart.com/3-millioninstacart-orders-open-sourced-d40d29ead6f2.\n",
    "\n",
    "* Instacart. “The Instacart Online Grocery Shopping Dataset 2017”, Accessed from https://www.instacart.com/datasets/grocery-shopping-2017 on July 13, 2018.\n",
    "\n",
    "* Instacart. ”Instacart Market Basket Analysis - Data.” Instacart Market Basket Analysis. Accessed July 13, 2018. https://www.kaggle.com/c/instacart-market-basket-analysis/data.\n",
    "\n",
    "* https://en.wikipedia.org/wiki/F1_score\n",
    "\n",
    "* https://www.slideshare.net/g33ktalk/dataengconf-sf16-recommendations-at-instacart\n",
    "\n",
    "* http://yifanhu.net/PUB/cf.pdf\n",
    "\n",
    "* https://spark.apache.org/docs/2.2.0/ml-collaborative-filtering.html\n",
    "\n",
    "* https://stackoverflow.com/questions/31028815/how-to-unzip-gz-file-using-python\n",
    "\n",
    "* https://medium.com/@m_n_malaeb/recall-and-precision-at-k-for-recommender-systems-618483226c54\n",
    "\n",
    "* https://gist.github.com/jeremystan/c3b39d947d9b88b3ccff3147dbcf6c6b"
   ]
  },
  {
   "cell_type": "code",
   "execution_count": null,
   "metadata": {
    "collapsed": true
   },
   "outputs": [],
   "source": []
  }
 ],
 "metadata": {
  "kernelspec": {
   "display_name": "Python 3",
   "language": "python",
   "name": "python3"
  },
  "language_info": {
   "codemirror_mode": {
    "name": "ipython",
    "version": 3
   },
   "file_extension": ".py",
   "mimetype": "text/x-python",
   "name": "python",
   "nbconvert_exporter": "python",
   "pygments_lexer": "ipython3",
   "version": "3.6.2"
  }
 },
 "nbformat": 4,
 "nbformat_minor": 2
}
